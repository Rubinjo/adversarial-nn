{
 "cells": [
  {
   "cell_type": "code",
   "execution_count": null,
   "metadata": {},
   "outputs": [],
   "source": [
    "!conda install matplotlib scikit-learn pytorch torchvision torchaudio cudatoolkit=11.3 -c pytorch"
   ]
  },
  {
   "cell_type": "code",
   "execution_count": 27,
   "metadata": {},
   "outputs": [],
   "source": [
    "import torch, torchvision\n",
    "import torchvision.transforms as transforms\n",
    "\n",
    "device = torch.device(\"cuda\" if torch.cuda.is_available() else \"cpu\")\n",
    "\n",
    "EPOCHS = 4\n",
    "BATCH_SIZE = 200\n",
    "LEARNING_RATE = 0.001\n",
    "\n",
    "# Normalize to Tensor of normalize range [-1, 1]\n",
    "transform = transforms.Compose([transforms.ToTensor(), transforms.Normalize((0.5), (0.5))])\n",
    "\n",
    "train_dataset = torchvision.datasets.FashionMNIST(root=\"dataset\", train=True, download=True, transform=transform)\n",
    "test_dataset = torchvision.datasets.FashionMNIST(root=\"dataset\", train=False, download=True, transform=transform)\n",
    "\n",
    "train_loader = torch.utils.data.DataLoader(train_dataset, batch_size=BATCH_SIZE, shuffle=True)\n",
    "test_loader = torch.utils.data.DataLoader(test_dataset, batch_size=BATCH_SIZE, shuffle=True)\n",
    "\n",
    "classes= (\"T-shirt/top\", \"Trouser\", \"Pullover\", \"Dress\", \"Coat\", \"Sandal\", \"Shirt\", \"Sneaker\", \"Bag\", \"Ankle boot\")"
   ]
  },
  {
   "cell_type": "code",
   "execution_count": 28,
   "metadata": {},
   "outputs": [
    {
     "name": "stdout",
     "output_type": "stream",
     "text": [
      "<class 'torch.Tensor'>\n",
      "torch.Size([200, 1, 28, 28])\n",
      "torch.Size([200])\n"
     ]
    }
   ],
   "source": [
    "#  Examine a sample\n",
    "dataiter = iter(train_loader)\n",
    "images, labels = dataiter.next()\n",
    "print(type(images))\n",
    "print(images.shape)\n",
    "print(labels.shape)"
   ]
  },
  {
   "cell_type": "code",
   "execution_count": 29,
   "metadata": {},
   "outputs": [
    {
     "data": {
      "text/plain": [
       "<matplotlib.image.AxesImage at 0x292bdf90d90>"
      ]
     },
     "execution_count": 29,
     "metadata": {},
     "output_type": "execute_result"
    },
    {
     "data": {
      "image/png": "[encoded data removed]",
      "text/plain": [
       "<Figure size 432x288 with 1 Axes>"
      ]
     },
     "metadata": {
      "needs_background": "light"
     },
     "output_type": "display_data"
    }
   ],
   "source": [
    "import matplotlib.pyplot as plt\n",
    "\n",
    "plt.imshow(images[0].numpy().squeeze(), cmap=\"Greys_r\")"
   ]
  },
  {
   "cell_type": "code",
   "execution_count": 30,
   "metadata": {},
   "outputs": [],
   "source": [
    "import torch.nn as nn\n",
    "import torch.nn.functional as F\n",
    "\n",
    "class CNN(nn.Module):\n",
    "    def __init__(self):\n",
    "        super().__init__()\n",
    "        # Input: 1x28x28\n",
    "        # 1 input channel, 6 output channels, kernel size of 5x5\n",
    "        # Output: 6x24x24\n",
    "        self.conv1 = nn.Conv2d(1, 6, 5)\n",
    "        # Input: 6x24x24\n",
    "        # Kernel size of 2x2\n",
    "        # Output: 6x12x12\n",
    "        self.pool1 = nn.MaxPool2d(2, 2)\n",
    "        self.conv1_drop = nn.Dropout2d(0.2)\n",
    "        # Input: 6x12x12\n",
    "        # 6 input channel, 16 output channels, kernel size of 3x3\n",
    "        # Output: 16x10x10\n",
    "        self.conv2 = nn.Conv2d(6, 16, 3)\n",
    "        # Input: 16x10x10\n",
    "        # Kernel size of 2x2\n",
    "        # Output: 16x5x5\n",
    "        self.pool2 = nn.MaxPool2d(2, 2)\n",
    "        self.conv2_drop = nn.Dropout2d(0.2)\n",
    "        self.fc1 = nn.Linear(16 * 5 * 5, 128)\n",
    "        self.fc2 = nn.Linear(128, 10)\n",
    "        pass\n",
    "\n",
    "    def forward(self, x):\n",
    "        x = self.conv1(x)\n",
    "        x = self.conv1_drop(x)\n",
    "        x = self.pool1(x)\n",
    "        x = F.relu(x)\n",
    "        x = self.conv2(x)\n",
    "        x = self.conv2_drop(x)\n",
    "        x = self.pool2(x)\n",
    "        x = F.relu(x)\n",
    "        x = torch.flatten(x, 1)\n",
    "        x = F.relu(self.fc1(x))\n",
    "        x = self.fc2(x)\n",
    "        return x"
   ]
  },
  {
   "cell_type": "code",
   "execution_count": 31,
   "metadata": {},
   "outputs": [],
   "source": [
    "model = CNN().to(device)\n",
    "\n",
    "criterion = nn.CrossEntropyLoss()\n",
    "optimizer = torch.optim.Adam(model.parameters(), lr=LEARNING_RATE)"
   ]
  },
  {
   "cell_type": "code",
   "execution_count": 32,
   "metadata": {},
   "outputs": [
    {
     "name": "stdout",
     "output_type": "stream",
     "text": [
      "epoch: 0, batch: 0  /300, time: 0.050s, loss: 2.301, acc: 0.140\n",
      "epoch: 0, batch: 75 /300, time: 2.887s, loss: 0.731, acc: 0.715\n",
      "epoch: 0, batch: 150/300, time: 5.723s, loss: 0.645, acc: 0.725\n",
      "epoch: 0, batch: 225/300, time: 8.889s, loss: 0.549, acc: 0.785\n",
      "Accuracy on the test set: 0.803\n",
      "epoch: 1, batch: 0  /300, time: 13.854s, loss: 0.658, acc: 0.790\n",
      "epoch: 1, batch: 75 /300, time: 17.058s, loss: 0.431, acc: 0.845\n",
      "epoch: 1, batch: 150/300, time: 20.234s, loss: 0.589, acc: 0.790\n",
      "epoch: 1, batch: 225/300, time: 23.440s, loss: 0.472, acc: 0.815\n",
      "Accuracy on the test set: 0.841\n",
      "epoch: 2, batch: 0  /300, time: 28.492s, loss: 0.492, acc: 0.840\n",
      "epoch: 2, batch: 75 /300, time: 31.693s, loss: 0.437, acc: 0.830\n",
      "epoch: 2, batch: 150/300, time: 34.845s, loss: 0.397, acc: 0.840\n",
      "epoch: 2, batch: 225/300, time: 37.591s, loss: 0.499, acc: 0.810\n",
      "Accuracy on the test set: 0.857\n",
      "epoch: 3, batch: 0  /300, time: 42.019s, loss: 0.501, acc: 0.855\n",
      "epoch: 3, batch: 75 /300, time: 44.719s, loss: 0.491, acc: 0.835\n",
      "epoch: 3, batch: 150/300, time: 47.415s, loss: 0.453, acc: 0.850\n",
      "epoch: 3, batch: 225/300, time: 50.143s, loss: 0.498, acc: 0.810\n",
      "Accuracy on the test set: 0.861\n"
     ]
    }
   ],
   "source": [
    "import time, math\n",
    "from sklearn.metrics import accuracy_score\n",
    "\n",
    "start = time.time()\n",
    "train_losses = []\n",
    "test_losses = []\n",
    "\n",
    "for epoch in range(EPOCHS):\n",
    "\n",
    "    # Train mode\n",
    "    model.train()\n",
    "\n",
    "    for i, batch in enumerate(train_loader):\n",
    "        # Send data to device\n",
    "        inputs, labels = batch[0].to(device), batch[1].to(device)\n",
    "\n",
    "        # Zero the parameter gradients\n",
    "        optimizer.zero_grad()\n",
    "        \n",
    "        # Forward + backward + optimize\n",
    "        with torch.set_grad_enabled(True):\n",
    "            outputs = model(inputs)\n",
    "            train_loss = criterion(outputs, labels)\n",
    "            train_loss.backward()\n",
    "            optimizer.step()\n",
    "\n",
    "        # Setup batch statistics\n",
    "        preds = torch.argmax(outputs, dim=1)\n",
    "        correct = torch.sum(torch.eq(preds, labels)).item()\n",
    "        elapsed = time.time() - start\n",
    "\n",
    "        # Print training statistics\n",
    "        if not i % (math.ceil(len(train_loader) / 4)):\n",
    "                print(f'epoch: {epoch}, batch: {i:<{len(str(len(train_loader)))}}/{len(train_loader)}, time: {elapsed:.3f}s, loss: {train_loss.item():.3f}, acc: {correct / BATCH_SIZE:.3f}')\n",
    "        \n",
    "    train_losses.append(train_loss.item())\n",
    "\n",
    "    # Evaluation mode\n",
    "    model.eval()\n",
    "    \n",
    "    batch_acc = []\n",
    "\n",
    "    for i, batch in enumerate(test_loader):\n",
    "        # Send data to device\n",
    "        inputs, labels = batch[0].to(device), batch[1].to(device)\n",
    "\n",
    "        # Zero the parameter gradients\n",
    "        optimizer.zero_grad()\n",
    "\n",
    "        with torch.set_grad_enabled(False):\n",
    "            outputs = model(inputs)\n",
    "            _, preds = torch.max(outputs, 1)\n",
    "            preds = preds.to(device).tolist()\n",
    "            batch_acc.append(accuracy_score(preds, labels.tolist()))\n",
    "            test_loss = criterion(outputs, labels.long())\n",
    "\n",
    "    # Print test statistics\n",
    "    print(f'Accuracy on the test set: {sum(batch_acc)/len(batch_acc):.3f}')\n",
    "\n",
    "    test_losses.append(test_loss.item())"
   ]
  },
  {
   "cell_type": "code",
   "execution_count": 33,
   "metadata": {},
   "outputs": [
    {
     "data": {
      "image/png": "[encoded data removed]",
      "text/plain": [
       "<Figure size 432x288 with 1 Axes>"
      ]
     },
     "metadata": {
      "needs_background": "light"
     },
     "output_type": "display_data"
    }
   ],
   "source": [
    "plt.plot(train_losses, label=\"Training loss\")\n",
    "plt.plot(test_losses, label=\"Validation loss\")\n",
    "plt.title(\"Training and Validation loss\")\n",
    "plt.xlabel(\"Epochs\")\n",
    "plt.ylabel(\"Loss\")\n",
    "plt.legend()\n",
    "plt.show()"
   ]
  }
 ],
 "metadata": {
  "interpreter": {
   "hash": "5c9dede8d34caf7612885fdbbfb2efab17e4cb6d234e695eae54d9044b88957b"
  },
  "kernelspec": {
   "display_name": "Python 3.9.7 64-bit ('stonks': conda)",
   "language": "python",
   "name": "python3"
  },
  "language_info": {
   "codemirror_mode": {
    "name": "ipython",
    "version": 3
   },
   "file_extension": ".py",
   "mimetype": "text/x-python",
   "name": "python",
   "nbconvert_exporter": "python",
   "pygments_lexer": "ipython3",
   "version": "3.9.7"
  },
  "orig_nbformat": 4
 },
 "nbformat": 4,
 "nbformat_minor": 2
}
